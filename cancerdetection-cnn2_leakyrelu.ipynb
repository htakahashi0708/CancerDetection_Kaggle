{
 "cells": [
  {
   "cell_type": "markdown",
   "id": "60f78f1d",
   "metadata": {},
   "source": [
    "URL of notebook \n",
    "\n",
    "https://www.kaggle.com/code/hidetaketakahashi/cancerdetection-cnn2/notebook"
   ]
  },
  {
   "cell_type": "code",
   "execution_count": 1,
   "id": "cbe884ec",
   "metadata": {
    "_cell_guid": "b1076dfc-b9ad-4769-8c92-a6c4dae69d19",
    "_uuid": "8f2839f25d086af736a60e9eeb907d3b93b6e0e5",
    "execution": {
     "iopub.execute_input": "2023-04-29T16:33:10.351490Z",
     "iopub.status.busy": "2023-04-29T16:33:10.350963Z",
     "iopub.status.idle": "2023-04-29T16:33:11.646081Z",
     "shell.execute_reply": "2023-04-29T16:33:11.644943Z"
    },
    "papermill": {
     "duration": 1.307366,
     "end_time": "2023-04-29T16:33:11.649150",
     "exception": false,
     "start_time": "2023-04-29T16:33:10.341784",
     "status": "completed"
    },
    "tags": []
   },
   "outputs": [],
   "source": [
    "import numpy as np \n",
    "import pandas as pd \n",
    "\n",
    "import os\n",
    "import matplotlib.pyplot as plt\n",
    "import seaborn as sns\n",
    "import math\n",
    "import time\n",
    "import cv2\n",
    "from sklearn import metrics\n",
    "import gc"
   ]
  },
  {
   "cell_type": "code",
   "execution_count": 2,
   "id": "5e6fabd7",
   "metadata": {
    "execution": {
     "iopub.execute_input": "2023-04-29T16:33:11.665573Z",
     "iopub.status.busy": "2023-04-29T16:33:11.665257Z",
     "iopub.status.idle": "2023-04-29T16:33:18.931039Z",
     "shell.execute_reply": "2023-04-29T16:33:18.929921Z"
    },
    "papermill": {
     "duration": 7.277922,
     "end_time": "2023-04-29T16:33:18.933718",
     "exception": false,
     "start_time": "2023-04-29T16:33:11.655796",
     "status": "completed"
    },
    "tags": []
   },
   "outputs": [],
   "source": [
    "import tensorflow as tf\n",
    "#from tensorflow import keras\n",
    "from tensorflow.keras import layers\n",
    "from tensorflow.keras import models"
   ]
  },
  {
   "cell_type": "code",
   "execution_count": 3,
   "id": "bee14e01",
   "metadata": {
    "execution": {
     "iopub.execute_input": "2023-04-29T16:33:18.948933Z",
     "iopub.status.busy": "2023-04-29T16:33:18.948213Z",
     "iopub.status.idle": "2023-04-29T16:33:19.586013Z",
     "shell.execute_reply": "2023-04-29T16:33:19.584830Z"
    },
    "papermill": {
     "duration": 0.648687,
     "end_time": "2023-04-29T16:33:19.589011",
     "exception": false,
     "start_time": "2023-04-29T16:33:18.940324",
     "status": "completed"
    },
    "tags": []
   },
   "outputs": [],
   "source": [
    "sample_df = pd.read_csv(\"/kaggle/input/histopathologic-cancer-detection/sample_submission.csv\")\n",
    "label_df = pd.read_csv(\"/kaggle/input/histopathologic-cancer-detection/train_labels.csv\")"
   ]
  },
  {
   "cell_type": "code",
   "execution_count": 4,
   "id": "dbbb8bb7",
   "metadata": {
    "execution": {
     "iopub.execute_input": "2023-04-29T16:33:19.604361Z",
     "iopub.status.busy": "2023-04-29T16:33:19.603755Z",
     "iopub.status.idle": "2023-04-29T16:33:30.484057Z",
     "shell.execute_reply": "2023-04-29T16:33:30.482953Z"
    },
    "papermill": {
     "duration": 10.890634,
     "end_time": "2023-04-29T16:33:30.486588",
     "exception": false,
     "start_time": "2023-04-29T16:33:19.595954",
     "status": "completed"
    },
    "tags": []
   },
   "outputs": [],
   "source": [
    "fpath = \"/kaggle/input/cancerdetection-npy/X_test.npy\"\n",
    "X_test = np.load(fpath)\n"
   ]
  },
  {
   "cell_type": "code",
   "execution_count": 5,
   "id": "92a91478",
   "metadata": {
    "execution": {
     "iopub.execute_input": "2023-04-29T16:33:30.502601Z",
     "iopub.status.busy": "2023-04-29T16:33:30.500921Z",
     "iopub.status.idle": "2023-04-29T16:33:32.141549Z",
     "shell.execute_reply": "2023-04-29T16:33:32.140410Z"
    },
    "papermill": {
     "duration": 1.650599,
     "end_time": "2023-04-29T16:33:32.144256",
     "exception": false,
     "start_time": "2023-04-29T16:33:30.493657",
     "status": "completed"
    },
    "tags": []
   },
   "outputs": [],
   "source": [
    "\n",
    "fpath = \"/kaggle/input/cancerdetection-npy/X_val.npy\"\n",
    "X_val = np.load(fpath)\n",
    "\n",
    "fpath = \"/kaggle/input/cancerdetection-npy/y_val.npy\"\n",
    "y_val = np.load(fpath)"
   ]
  },
  {
   "cell_type": "code",
   "execution_count": 6,
   "id": "88936044",
   "metadata": {
    "execution": {
     "iopub.execute_input": "2023-04-29T16:33:32.159823Z",
     "iopub.status.busy": "2023-04-29T16:33:32.159235Z",
     "iopub.status.idle": "2023-04-29T16:34:00.077054Z",
     "shell.execute_reply": "2023-04-29T16:34:00.075964Z"
    },
    "papermill": {
     "duration": 27.92915,
     "end_time": "2023-04-29T16:34:00.080000",
     "exception": false,
     "start_time": "2023-04-29T16:33:32.150850",
     "status": "completed"
    },
    "tags": []
   },
   "outputs": [],
   "source": [
    "fpath = \"/kaggle/input/cancerdetection-npy/X_train.npy\"\n",
    "X_train = np.load(fpath)[0:100000]\n",
    "\n",
    "fpath = \"/kaggle/input/cancerdetection-npy/y_train.npy\"\n",
    "y_train = np.load(fpath)[0:100000]"
   ]
  },
  {
   "cell_type": "code",
   "execution_count": 7,
   "id": "007b2522",
   "metadata": {
    "execution": {
     "iopub.execute_input": "2023-04-29T16:34:00.096398Z",
     "iopub.status.busy": "2023-04-29T16:34:00.096072Z",
     "iopub.status.idle": "2023-04-29T16:34:00.294926Z",
     "shell.execute_reply": "2023-04-29T16:34:00.293939Z"
    },
    "papermill": {
     "duration": 0.208819,
     "end_time": "2023-04-29T16:34:00.297517",
     "exception": false,
     "start_time": "2023-04-29T16:34:00.088698",
     "status": "completed"
    },
    "tags": []
   },
   "outputs": [
    {
     "data": {
      "text/plain": [
       "37"
      ]
     },
     "execution_count": 7,
     "metadata": {},
     "output_type": "execute_result"
    }
   ],
   "source": [
    "gc.collect()"
   ]
  },
  {
   "cell_type": "code",
   "execution_count": 8,
   "id": "a69ba97f",
   "metadata": {
    "execution": {
     "iopub.execute_input": "2023-04-29T16:34:00.312038Z",
     "iopub.status.busy": "2023-04-29T16:34:00.311716Z",
     "iopub.status.idle": "2023-04-29T16:34:00.318889Z",
     "shell.execute_reply": "2023-04-29T16:34:00.318066Z"
    },
    "papermill": {
     "duration": 0.017391,
     "end_time": "2023-04-29T16:34:00.321544",
     "exception": false,
     "start_time": "2023-04-29T16:34:00.304153",
     "status": "completed"
    },
    "tags": []
   },
   "outputs": [
    {
     "data": {
      "text/plain": [
       "((100000, 96, 96, 3),\n",
       " (10000, 96, 96, 3),\n",
       " (100000, 1),\n",
       " (10000, 1),\n",
       " (57458, 96, 96, 3))"
      ]
     },
     "execution_count": 8,
     "metadata": {},
     "output_type": "execute_result"
    }
   ],
   "source": [
    "X_train.shape, X_val.shape, y_train.shape, y_val.shape, X_test.shape"
   ]
  },
  {
   "cell_type": "code",
   "execution_count": 9,
   "id": "fbbd145e",
   "metadata": {
    "execution": {
     "iopub.execute_input": "2023-04-29T16:34:00.335844Z",
     "iopub.status.busy": "2023-04-29T16:34:00.335521Z",
     "iopub.status.idle": "2023-04-29T16:34:00.342534Z",
     "shell.execute_reply": "2023-04-29T16:34:00.341304Z"
    },
    "papermill": {
     "duration": 0.016665,
     "end_time": "2023-04-29T16:34:00.344801",
     "exception": false,
     "start_time": "2023-04-29T16:34:00.328136",
     "status": "completed"
    },
    "tags": []
   },
   "outputs": [
    {
     "data": {
      "text/plain": [
       "(96, 96, 3)"
      ]
     },
     "execution_count": 9,
     "metadata": {},
     "output_type": "execute_result"
    }
   ],
   "source": [
    "X_shape = X_train[0].shape\n",
    "X_shape"
   ]
  },
  {
   "cell_type": "code",
   "execution_count": 10,
   "id": "eff4eabe",
   "metadata": {
    "execution": {
     "iopub.execute_input": "2023-04-29T16:34:00.359018Z",
     "iopub.status.busy": "2023-04-29T16:34:00.358728Z",
     "iopub.status.idle": "2023-04-29T16:34:03.596057Z",
     "shell.execute_reply": "2023-04-29T16:34:03.595096Z"
    },
    "papermill": {
     "duration": 3.2711,
     "end_time": "2023-04-29T16:34:03.622411",
     "exception": false,
     "start_time": "2023-04-29T16:34:00.351311",
     "status": "completed"
    },
    "tags": []
   },
   "outputs": [
    {
     "name": "stdout",
     "output_type": "stream",
     "text": [
      "Model: \"sequential\"\n",
      "_________________________________________________________________\n",
      " Layer (type)                Output Shape              Param #   \n",
      "=================================================================\n",
      " rescaling (Rescaling)       (None, 96, 96, 3)         0         \n",
      "                                                                 \n",
      " random_flip (RandomFlip)    (None, 96, 96, 3)         0         \n",
      "                                                                 \n",
      " conv2d (Conv2D)             (None, 96, 96, 64)        1792      \n",
      "                                                                 \n",
      " conv2d_1 (Conv2D)           (None, 96, 96, 64)        36928     \n",
      "                                                                 \n",
      " max_pooling2d (MaxPooling2D  (None, 48, 48, 64)       0         \n",
      " )                                                               \n",
      "                                                                 \n",
      " conv2d_2 (Conv2D)           (None, 48, 48, 128)       73856     \n",
      "                                                                 \n",
      " conv2d_3 (Conv2D)           (None, 48, 48, 128)       147584    \n",
      "                                                                 \n",
      " max_pooling2d_1 (MaxPooling  (None, 24, 24, 128)      0         \n",
      " 2D)                                                             \n",
      "                                                                 \n",
      " conv2d_4 (Conv2D)           (None, 24, 24, 256)       295168    \n",
      "                                                                 \n",
      " conv2d_5 (Conv2D)           (None, 24, 24, 256)       590080    \n",
      "                                                                 \n",
      " max_pooling2d_2 (MaxPooling  (None, 12, 12, 256)      0         \n",
      " 2D)                                                             \n",
      "                                                                 \n",
      " conv2d_6 (Conv2D)           (None, 12, 12, 512)       1180160   \n",
      "                                                                 \n",
      " conv2d_7 (Conv2D)           (None, 12, 12, 512)       2359808   \n",
      "                                                                 \n",
      " max_pooling2d_3 (MaxPooling  (None, 6, 6, 512)        0         \n",
      " 2D)                                                             \n",
      "                                                                 \n",
      " conv2d_8 (Conv2D)           (None, 6, 6, 512)         2359808   \n",
      "                                                                 \n",
      " conv2d_9 (Conv2D)           (None, 6, 6, 512)         2359808   \n",
      "                                                                 \n",
      " max_pooling2d_4 (MaxPooling  (None, 3, 3, 512)        0         \n",
      " 2D)                                                             \n",
      "                                                                 \n",
      " flatten (Flatten)           (None, 4608)              0         \n",
      "                                                                 \n",
      " dropout (Dropout)           (None, 4608)              0         \n",
      "                                                                 \n",
      " dense (Dense)               (None, 4608)              21238272  \n",
      "                                                                 \n",
      " dense_1 (Dense)             (None, 2)                 9218      \n",
      "                                                                 \n",
      "=================================================================\n",
      "Total params: 30,652,482\n",
      "Trainable params: 30,652,482\n",
      "Non-trainable params: 0\n",
      "_________________________________________________________________\n"
     ]
    }
   ],
   "source": [
    "tf.keras.utils.set_random_seed(\n",
    "    seed = 2\n",
    ")\n",
    "\n",
    "model = models.Sequential()\n",
    "\n",
    "NF =64\n",
    "FS = 3\n",
    "\n",
    "model.add(layers.Rescaling(scale=1./127.5, offset=-1., input_shape = X_shape))\n",
    "model.add(layers.RandomFlip(mode=\"horizontal_and_vertical\", seed=1, input_shape = X_shape))\n",
    "\n",
    "model.add(layers.Conv2D(NF, (FS,FS), activation = \"LeakyReLU\", padding = \"same\", input_shape = X_shape))\n",
    "model.add(layers.Conv2D(NF, (FS,FS), activation = \"LeakyReLU\", padding = \"same\"))\n",
    "model.add(layers.MaxPooling2D((2,2)))\n",
    "\n",
    "\n",
    "FS = 3\n",
    "NF = NF*2\n",
    "model.add(layers.Conv2D(NF, (FS,FS), activation = \"LeakyReLU\", padding = \"same\"))\n",
    "model.add(layers.Conv2D(NF, (FS,FS), activation = \"LeakyReLU\", padding = \"same\"))\n",
    "model.add(layers.MaxPooling2D((2,2)))\n",
    "\n",
    "\n",
    "FS = 3\n",
    "NF = NF*2\n",
    "model.add(layers.Conv2D(NF, (FS,FS), activation = \"LeakyReLU\", padding = \"same\"))\n",
    "model.add(layers.Conv2D(NF, (FS,FS), activation = \"LeakyReLU\", padding = \"same\"))\n",
    "model.add(layers.MaxPooling2D((2,2)))\n",
    "\n",
    "\n",
    "FS = 3\n",
    "NF = NF*2\n",
    "model.add(layers.Conv2D(NF, (FS,FS), activation = \"LeakyReLU\", padding = \"same\"))\n",
    "model.add(layers.Conv2D(NF, (FS,FS), activation = \"LeakyReLU\", padding = \"same\"))\n",
    "model.add(layers.MaxPooling2D((2,2)))\n",
    "\n",
    "FS = 3\n",
    "NF = NF\n",
    "model.add(layers.Conv2D(NF, (FS,FS), activation = \"LeakyReLU\", padding = \"same\"))\n",
    "model.add(layers.Conv2D(NF, (FS,FS), activation = \"LeakyReLU\", padding = \"same\"))\n",
    "model.add(layers.MaxPooling2D((2,2)))\n",
    "\n",
    "model.add(layers.Flatten())\n",
    "#model.add(layers.BatchNormalization())\n",
    "model.add(layers.Dropout(0.5, seed = 1))\n",
    "model.add(layers.Dense(512*9, activation = \"relu\"))\n",
    "\n",
    "model.add(layers.Dense(2))\n",
    "\n",
    "model.summary()"
   ]
  },
  {
   "cell_type": "code",
   "execution_count": 11,
   "id": "ffff05df",
   "metadata": {
    "execution": {
     "iopub.execute_input": "2023-04-29T16:34:03.643067Z",
     "iopub.status.busy": "2023-04-29T16:34:03.642732Z",
     "iopub.status.idle": "2023-04-29T16:34:03.647079Z",
     "shell.execute_reply": "2023-04-29T16:34:03.646146Z"
    },
    "papermill": {
     "duration": 0.017261,
     "end_time": "2023-04-29T16:34:03.649419",
     "exception": false,
     "start_time": "2023-04-29T16:34:03.632158",
     "status": "completed"
    },
    "tags": []
   },
   "outputs": [],
   "source": [
    "loss_fn = tf.keras.losses.SparseCategoricalCrossentropy(from_logits=True)"
   ]
  },
  {
   "cell_type": "code",
   "execution_count": 12,
   "id": "aa91842a",
   "metadata": {
    "execution": {
     "iopub.execute_input": "2023-04-29T16:34:03.670687Z",
     "iopub.status.busy": "2023-04-29T16:34:03.670355Z",
     "iopub.status.idle": "2023-04-29T16:34:03.690492Z",
     "shell.execute_reply": "2023-04-29T16:34:03.689475Z"
    },
    "papermill": {
     "duration": 0.033349,
     "end_time": "2023-04-29T16:34:03.692791",
     "exception": false,
     "start_time": "2023-04-29T16:34:03.659442",
     "status": "completed"
    },
    "tags": []
   },
   "outputs": [],
   "source": [
    "model.compile(\n",
    "    #optimizer=Optimizer, \n",
    "    optimizer = \"adam\",\n",
    "    loss=loss_fn, \n",
    "    metrics=['accuracy'] \n",
    "    #metrics=[tf.keras.metrics.AUC()]\n",
    "    )"
   ]
  },
  {
   "cell_type": "code",
   "execution_count": 13,
   "id": "9f2afa30",
   "metadata": {
    "execution": {
     "iopub.execute_input": "2023-04-29T16:34:03.714365Z",
     "iopub.status.busy": "2023-04-29T16:34:03.713486Z",
     "iopub.status.idle": "2023-04-29T16:51:33.254265Z",
     "shell.execute_reply": "2023-04-29T16:51:33.253074Z"
    },
    "papermill": {
     "duration": 1049.554369,
     "end_time": "2023-04-29T16:51:33.257098",
     "exception": false,
     "start_time": "2023-04-29T16:34:03.702729",
     "status": "completed"
    },
    "tags": []
   },
   "outputs": [
    {
     "name": "stdout",
     "output_type": "stream",
     "text": [
      "Epoch 1/7\n",
      "782/782 [==============================] - 154s 181ms/step - loss: 2.2901 - accuracy: 0.7015 - val_loss: 0.4744 - val_accuracy: 0.7799\n",
      "Epoch 2/7\n",
      "782/782 [==============================] - 140s 180ms/step - loss: 0.4226 - accuracy: 0.8107 - val_loss: 0.3782 - val_accuracy: 0.8459\n",
      "Epoch 3/7\n",
      "782/782 [==============================] - 141s 180ms/step - loss: 0.3641 - accuracy: 0.8430 - val_loss: 0.3549 - val_accuracy: 0.8362\n",
      "Epoch 4/7\n",
      "782/782 [==============================] - 139s 178ms/step - loss: 0.3257 - accuracy: 0.8619 - val_loss: 0.3116 - val_accuracy: 0.8616\n",
      "Epoch 5/7\n",
      "782/782 [==============================] - 139s 178ms/step - loss: 0.2989 - accuracy: 0.8754 - val_loss: 0.3111 - val_accuracy: 0.8697\n",
      "Epoch 6/7\n",
      "782/782 [==============================] - 141s 180ms/step - loss: 0.2687 - accuracy: 0.8912 - val_loss: 0.2589 - val_accuracy: 0.8932\n",
      "Epoch 7/7\n",
      "782/782 [==============================] - 140s 180ms/step - loss: 0.2358 - accuracy: 0.9066 - val_loss: 0.2412 - val_accuracy: 0.9101\n"
     ]
    }
   ],
   "source": [
    "history = model.fit(X_train, y_train, batch_size = 128, epochs = 7, validation_data = (X_val, y_val))"
   ]
  },
  {
   "cell_type": "code",
   "execution_count": 14,
   "id": "c9964fce",
   "metadata": {
    "execution": {
     "iopub.execute_input": "2023-04-29T16:51:33.873245Z",
     "iopub.status.busy": "2023-04-29T16:51:33.872186Z",
     "iopub.status.idle": "2023-04-29T16:51:34.280566Z",
     "shell.execute_reply": "2023-04-29T16:51:34.279518Z"
    },
    "papermill": {
     "duration": 0.719566,
     "end_time": "2023-04-29T16:51:34.283914",
     "exception": false,
     "start_time": "2023-04-29T16:51:33.564348",
     "status": "completed"
    },
    "tags": []
   },
   "outputs": [],
   "source": [
    "gc.collect()\n",
    "tf.keras.backend.clear_session()"
   ]
  },
  {
   "cell_type": "code",
   "execution_count": 15,
   "id": "fdb29b60",
   "metadata": {
    "execution": {
     "iopub.execute_input": "2023-04-29T16:51:34.952744Z",
     "iopub.status.busy": "2023-04-29T16:51:34.952369Z",
     "iopub.status.idle": "2023-04-29T16:51:34.989545Z",
     "shell.execute_reply": "2023-04-29T16:51:34.988456Z"
    },
    "papermill": {
     "duration": 0.34994,
     "end_time": "2023-04-29T16:51:34.992030",
     "exception": false,
     "start_time": "2023-04-29T16:51:34.642090",
     "status": "completed"
    },
    "tags": []
   },
   "outputs": [],
   "source": [
    "del X_train\n",
    "#del X_val"
   ]
  },
  {
   "cell_type": "code",
   "execution_count": 16,
   "id": "8c2c1121",
   "metadata": {
    "execution": {
     "iopub.execute_input": "2023-04-29T16:51:35.615847Z",
     "iopub.status.busy": "2023-04-29T16:51:35.615472Z",
     "iopub.status.idle": "2023-04-29T16:51:35.814503Z",
     "shell.execute_reply": "2023-04-29T16:51:35.813455Z"
    },
    "papermill": {
     "duration": 0.514073,
     "end_time": "2023-04-29T16:51:35.816741",
     "exception": false,
     "start_time": "2023-04-29T16:51:35.302668",
     "status": "completed"
    },
    "tags": []
   },
   "outputs": [
    {
     "data": {
      "text/plain": [
       "42"
      ]
     },
     "execution_count": 16,
     "metadata": {},
     "output_type": "execute_result"
    }
   ],
   "source": [
    "gc.collect()"
   ]
  },
  {
   "cell_type": "code",
   "execution_count": 17,
   "id": "f810ec42",
   "metadata": {
    "execution": {
     "iopub.execute_input": "2023-04-29T16:51:36.486066Z",
     "iopub.status.busy": "2023-04-29T16:51:36.485680Z",
     "iopub.status.idle": "2023-04-29T16:51:40.167805Z",
     "shell.execute_reply": "2023-04-29T16:51:40.166598Z"
    },
    "papermill": {
     "duration": 4.047486,
     "end_time": "2023-04-29T16:51:40.170580",
     "exception": false,
     "start_time": "2023-04-29T16:51:36.123094",
     "status": "completed"
    },
    "tags": []
   },
   "outputs": [],
   "source": [
    "model.save(\"CNN_simple\")"
   ]
  },
  {
   "cell_type": "code",
   "execution_count": 18,
   "id": "e4ba7a82",
   "metadata": {
    "execution": {
     "iopub.execute_input": "2023-04-29T16:51:40.893721Z",
     "iopub.status.busy": "2023-04-29T16:51:40.893341Z",
     "iopub.status.idle": "2023-04-29T16:51:40.902100Z",
     "shell.execute_reply": "2023-04-29T16:51:40.900936Z"
    },
    "papermill": {
     "duration": 0.323996,
     "end_time": "2023-04-29T16:51:40.904533",
     "exception": false,
     "start_time": "2023-04-29T16:51:40.580537",
     "status": "completed"
    },
    "tags": []
   },
   "outputs": [],
   "source": [
    "def plot_scores(history):\n",
    "    \n",
    "    fig, ax = plt.subplots(1,2, figsize = (12, 5))\n",
    "    ax[0].plot(history.history[\"accuracy\"], label = \"train\")\n",
    "    ax[0].plot(history.history[\"val_accuracy\"], label = \"val\")\n",
    "    ax[0].set_xlabel(\"epochs\")\n",
    "    ax[0].set_ylabel(\"accuracy\")\n",
    "    ax[0].set_ylim([0.7,1])\n",
    "    ax[0].set_title(\"Accuracy\")\n",
    "    ax[0].legend()\n",
    "\n",
    "    ax[1].plot(history.history[\"loss\"], label = \"train\")\n",
    "    ax[1].plot(history.history[\"val_loss\"], label = \"val\")\n",
    "    ax[1].set_xlabel(\"epochs\")\n",
    "    ax[1].set_ylabel(\"loss\")\n",
    "    ax[1].set_ylim([0,1])\n",
    "    ax[1].set_title(\"Loss\")\n",
    "    ax[1].legend()\n",
    "    \n",
    "    plt.show()"
   ]
  },
  {
   "cell_type": "code",
   "execution_count": 19,
   "id": "7ab65b05",
   "metadata": {
    "execution": {
     "iopub.execute_input": "2023-04-29T16:51:41.527629Z",
     "iopub.status.busy": "2023-04-29T16:51:41.527223Z",
     "iopub.status.idle": "2023-04-29T16:51:41.925703Z",
     "shell.execute_reply": "2023-04-29T16:51:41.924725Z"
    },
    "papermill": {
     "duration": 0.716908,
     "end_time": "2023-04-29T16:51:41.928223",
     "exception": false,
     "start_time": "2023-04-29T16:51:41.211315",
     "status": "completed"
    },
    "tags": []
   },
   "outputs": [
    {
     "data": {
      "image/png": "[encoded data removed]",
      "text/plain": [
       "<Figure size 1200x500 with 2 Axes>"
      ]
     },
     "metadata": {},
     "output_type": "display_data"
    }
   ],
   "source": [
    "plot_scores(history)"
   ]
  },
  {
   "cell_type": "code",
   "execution_count": 20,
   "id": "4061e609",
   "metadata": {
    "execution": {
     "iopub.execute_input": "2023-04-29T16:51:42.606752Z",
     "iopub.status.busy": "2023-04-29T16:51:42.606327Z",
     "iopub.status.idle": "2023-04-29T16:51:42.614988Z",
     "shell.execute_reply": "2023-04-29T16:51:42.613950Z"
    },
    "papermill": {
     "duration": 0.317514,
     "end_time": "2023-04-29T16:51:42.617323",
     "exception": false,
     "start_time": "2023-04-29T16:51:42.299809",
     "status": "completed"
    },
    "tags": []
   },
   "outputs": [],
   "source": [
    "def pred_val():\n",
    "    \n",
    "    yhat_test1 = model.predict(X_val)\n",
    "    yhat_test1 = tf.nn.softmax(yhat_test1).numpy()[:,1]\n",
    "    \n",
    "    gc.collect()\n",
    "\n",
    "    yhat_test2 = model.predict(X_val[:,::-1,::-1,:])\n",
    "    yhat_test2 = tf.nn.softmax(yhat_test2).numpy()[:,1]\n",
    "    \n",
    "    gc.collect()\n",
    "\n",
    "    yhat_test3 = model.predict(X_val[:,::-1,:,:])\n",
    "    yhat_test3 = tf.nn.softmax(yhat_test3).numpy()[:,1]\n",
    "    \n",
    "    gc.collect()\n",
    "\n",
    "    yhat_test4 = model.predict(X_val[:,:,::-1,:])\n",
    "    yhat_test4 = tf.nn.softmax(yhat_test4).numpy()[:,1]\n",
    "    \n",
    "    gc.collect()\n",
    "    \n",
    "    yhat_test =  (yhat_test1 + yhat_test2 + yhat_test3 + yhat_test4)/4\n",
    "    \n",
    "    return yhat_test"
   ]
  },
  {
   "cell_type": "code",
   "execution_count": 21,
   "id": "50dda9af",
   "metadata": {
    "execution": {
     "iopub.execute_input": "2023-04-29T16:51:43.239030Z",
     "iopub.status.busy": "2023-04-29T16:51:43.238029Z",
     "iopub.status.idle": "2023-04-29T16:51:43.247348Z",
     "shell.execute_reply": "2023-04-29T16:51:43.246174Z"
    },
    "papermill": {
     "duration": 0.324395,
     "end_time": "2023-04-29T16:51:43.251602",
     "exception": false,
     "start_time": "2023-04-29T16:51:42.927207",
     "status": "completed"
    },
    "tags": []
   },
   "outputs": [],
   "source": [
    "def pred_test():\n",
    "    \n",
    "    yhat_test1 = model.predict(X_test)\n",
    "    yhat_test1 = tf.nn.softmax(yhat_test1).numpy()[:,1]\n",
    "    \n",
    "    gc.collect()\n",
    "    tf.keras.backend.clear_session()\n",
    "    \n",
    "    yhat_test2 = model.predict(X_test[:,::-1,::-1,:])\n",
    "    yhat_test2 = tf.nn.softmax(yhat_test2).numpy()[:,1]\n",
    "    \n",
    "    gc.collect()\n",
    "    tf.keras.backend.clear_session()\n",
    "\n",
    "    yhat_test3 = model.predict(X_test[:,::-1,:,:])\n",
    "    yhat_test3 = tf.nn.softmax(yhat_test3).numpy()[:,1]\n",
    "    \n",
    "    gc.collect()\n",
    "    tf.keras.backend.clear_session()\n",
    "\n",
    "    yhat_test4 = model.predict(X_test[:,:,::-1,:])\n",
    "    yhat_test4 = tf.nn.softmax(yhat_test4).numpy()[:,1]\n",
    "    \n",
    "    gc.collect()\n",
    "    tf.keras.backend.clear_session()\n",
    "    \n",
    "    yhat_test =  (yhat_test1 + yhat_test2 + yhat_test3 + yhat_test4)/4\n",
    "    \n",
    "    return yhat_test"
   ]
  },
  {
   "cell_type": "code",
   "execution_count": 22,
   "id": "3c468146",
   "metadata": {
    "execution": {
     "iopub.execute_input": "2023-04-29T16:51:43.936008Z",
     "iopub.status.busy": "2023-04-29T16:51:43.935613Z",
     "iopub.status.idle": "2023-04-29T16:54:41.174424Z",
     "shell.execute_reply": "2023-04-29T16:54:41.172905Z"
    },
    "papermill": {
     "duration": 177.603587,
     "end_time": "2023-04-29T16:54:41.177609",
     "exception": false,
     "start_time": "2023-04-29T16:51:43.574022",
     "status": "completed"
    },
    "tags": []
   },
   "outputs": [
    {
     "name": "stdout",
     "output_type": "stream",
     "text": [
      "1796/1796 [==============================] - 24s 13ms/step\n",
      "1796/1796 [==============================] - 24s 13ms/step\n",
      "1796/1796 [==============================] - 24s 13ms/step\n",
      "1796/1796 [==============================] - 25s 14ms/step\n"
     ]
    },
    {
     "data": {
      "text/plain": [
       "(2.8666373e-05, 1.0, 0.39416045)"
      ]
     },
     "execution_count": 22,
     "metadata": {},
     "output_type": "execute_result"
    }
   ],
   "source": [
    "yhat_test = pred_test()\n",
    "np.min(yhat_test), np.max(yhat_test), np.mean(yhat_test)"
   ]
  },
  {
   "cell_type": "code",
   "execution_count": 23,
   "id": "3d354356",
   "metadata": {
    "execution": {
     "iopub.execute_input": "2023-04-29T16:54:42.116377Z",
     "iopub.status.busy": "2023-04-29T16:54:42.115962Z",
     "iopub.status.idle": "2023-04-29T16:54:42.266360Z",
     "shell.execute_reply": "2023-04-29T16:54:42.264967Z"
    },
    "papermill": {
     "duration": 0.59394,
     "end_time": "2023-04-29T16:54:42.269574",
     "exception": false,
     "start_time": "2023-04-29T16:54:41.675634",
     "status": "completed"
    },
    "tags": []
   },
   "outputs": [
    {
     "data": {
      "text/plain": [
       "0.39416045"
      ]
     },
     "execution_count": 23,
     "metadata": {},
     "output_type": "execute_result"
    }
   ],
   "source": [
    "test_submit = sample_df.copy()\n",
    "test_submit[\"label\"] = yhat_test\n",
    "test_submit.to_csv('submission.csv',index=False)\n",
    "test_submit[\"label\"].mean()"
   ]
  },
  {
   "cell_type": "code",
   "execution_count": 24,
   "id": "8c875ae5",
   "metadata": {
    "execution": {
     "iopub.execute_input": "2023-04-29T16:54:43.227542Z",
     "iopub.status.busy": "2023-04-29T16:54:43.227114Z",
     "iopub.status.idle": "2023-04-29T16:54:43.499189Z",
     "shell.execute_reply": "2023-04-29T16:54:43.497980Z"
    },
    "papermill": {
     "duration": 0.779922,
     "end_time": "2023-04-29T16:54:43.501605",
     "exception": false,
     "start_time": "2023-04-29T16:54:42.721683",
     "status": "completed"
    },
    "tags": []
   },
   "outputs": [
    {
     "data": {
      "text/plain": [
       "<AxesSubplot:>"
      ]
     },
     "execution_count": 24,
     "metadata": {},
     "output_type": "execute_result"
    },
    {
     "data": {
      "image/png": "[encoded data removed]",
      "text/plain": [
       "<Figure size 640x480 with 1 Axes>"
      ]
     },
     "metadata": {},
     "output_type": "display_data"
    }
   ],
   "source": [
    "test_submit[\"label\"].hist()"
   ]
  },
  {
   "cell_type": "code",
   "execution_count": 25,
   "id": "95ad9b9f",
   "metadata": {
    "execution": {
     "iopub.execute_input": "2023-04-29T16:54:44.392216Z",
     "iopub.status.busy": "2023-04-29T16:54:44.390527Z",
     "iopub.status.idle": "2023-04-29T16:54:50.217524Z",
     "shell.execute_reply": "2023-04-29T16:54:50.215924Z"
    },
    "papermill": {
     "duration": 6.276561,
     "end_time": "2023-04-29T16:54:50.220426",
     "exception": false,
     "start_time": "2023-04-29T16:54:43.943865",
     "status": "completed"
    },
    "tags": []
   },
   "outputs": [
    {
     "name": "stdout",
     "output_type": "stream",
     "text": [
      "313/313 [==============================] - 5s 14ms/step\n",
      "val auc 0.9642357348749514\n"
     ]
    }
   ],
   "source": [
    "yhat_val = model.predict(X_val)\n",
    "yhat_val = tf.nn.softmax(yhat_val).numpy()[:,1]\n",
    "\n",
    "fpr, tpr, thresholds = metrics.roc_curve(y_val, yhat_val, pos_label=1)\n",
    "val_auc = metrics.auc(fpr, tpr)\n",
    "print(\"val auc\", val_auc)"
   ]
  },
  {
   "cell_type": "code",
   "execution_count": 26,
   "id": "ccc6cb9f",
   "metadata": {
    "execution": {
     "iopub.execute_input": "2023-04-29T16:54:51.119120Z",
     "iopub.status.busy": "2023-04-29T16:54:51.118676Z",
     "iopub.status.idle": "2023-04-29T16:55:16.202334Z",
     "shell.execute_reply": "2023-04-29T16:55:16.200980Z"
    },
    "papermill": {
     "duration": 25.533788,
     "end_time": "2023-04-29T16:55:16.205329",
     "exception": false,
     "start_time": "2023-04-29T16:54:50.671541",
     "status": "completed"
    },
    "tags": []
   },
   "outputs": [
    {
     "name": "stdout",
     "output_type": "stream",
     "text": [
      "313/313 [==============================] - 5s 15ms/step\n",
      "313/313 [==============================] - 4s 14ms/step\n",
      "313/313 [==============================] - 4s 14ms/step\n",
      "313/313 [==============================] - 4s 14ms/step\n",
      "val auc 0.9682920348788997\n"
     ]
    }
   ],
   "source": [
    "yhat_val = pred_val()\n",
    "fpr, tpr, thresholds = metrics.roc_curve(y_val, yhat_val, pos_label=1)\n",
    "val_auc = metrics.auc(fpr, tpr)\n",
    "print(\"val auc\", val_auc)"
   ]
  },
  {
   "cell_type": "code",
   "execution_count": 27,
   "id": "d24e50e8",
   "metadata": {
    "execution": {
     "iopub.execute_input": "2023-04-29T16:55:17.200656Z",
     "iopub.status.busy": "2023-04-29T16:55:17.200231Z",
     "iopub.status.idle": "2023-04-29T16:55:17.206231Z",
     "shell.execute_reply": "2023-04-29T16:55:17.204856Z"
    },
    "papermill": {
     "duration": 0.475592,
     "end_time": "2023-04-29T16:55:17.208919",
     "exception": false,
     "start_time": "2023-04-29T16:55:16.733327",
     "status": "completed"
    },
    "tags": []
   },
   "outputs": [],
   "source": [
    "yhat_val_n = (yhat_val > 0.5).astype(int)"
   ]
  },
  {
   "cell_type": "code",
   "execution_count": 28,
   "id": "def0eee1",
   "metadata": {
    "execution": {
     "iopub.execute_input": "2023-04-29T16:55:18.217724Z",
     "iopub.status.busy": "2023-04-29T16:55:18.216952Z",
     "iopub.status.idle": "2023-04-29T16:55:18.222523Z",
     "shell.execute_reply": "2023-04-29T16:55:18.221204Z"
    },
    "papermill": {
     "duration": 0.540062,
     "end_time": "2023-04-29T16:55:18.225820",
     "exception": false,
     "start_time": "2023-04-29T16:55:17.685758",
     "status": "completed"
    },
    "tags": []
   },
   "outputs": [],
   "source": [
    "from sklearn.metrics import confusion_matrix"
   ]
  },
  {
   "cell_type": "code",
   "execution_count": 29,
   "id": "1c7399a7",
   "metadata": {
    "execution": {
     "iopub.execute_input": "2023-04-29T16:55:19.155214Z",
     "iopub.status.busy": "2023-04-29T16:55:19.154113Z",
     "iopub.status.idle": "2023-04-29T16:55:19.166822Z",
     "shell.execute_reply": "2023-04-29T16:55:19.165550Z"
    },
    "papermill": {
     "duration": 0.480413,
     "end_time": "2023-04-29T16:55:19.169612",
     "exception": false,
     "start_time": "2023-04-29T16:55:18.689199",
     "status": "completed"
    },
    "tags": []
   },
   "outputs": [
    {
     "data": {
      "text/plain": [
       "array([[4705,  338],\n",
       "       [ 477, 4480]])"
      ]
     },
     "execution_count": 29,
     "metadata": {},
     "output_type": "execute_result"
    }
   ],
   "source": [
    "confusion_matrix(y_val, yhat_val_n)"
   ]
  },
  {
   "cell_type": "code",
   "execution_count": null,
   "id": "da299966",
   "metadata": {
    "papermill": {
     "duration": 0.470259,
     "end_time": "2023-04-29T16:55:20.171042",
     "exception": false,
     "start_time": "2023-04-29T16:55:19.700783",
     "status": "completed"
    },
    "tags": []
   },
   "outputs": [],
   "source": []
  }
 ],
 "metadata": {
  "kernelspec": {
   "display_name": "Python 3 (ipykernel)",
   "language": "python",
   "name": "python3"
  },
  "language_info": {
   "codemirror_mode": {
    "name": "ipython",
    "version": 3
   },
   "file_extension": ".py",
   "mimetype": "text/x-python",
   "name": "python",
   "nbconvert_exporter": "python",
   "pygments_lexer": "ipython3",
   "version": "3.9.7"
  },
  "papermill": {
   "default_parameters": {},
   "duration": 1343.789969,
   "end_time": "2023-04-29T16:55:24.583047",
   "environment_variables": {},
   "exception": null,
   "input_path": "__notebook__.ipynb",
   "output_path": "__notebook__.ipynb",
   "parameters": {},
   "start_time": "2023-04-29T16:33:00.793078",
   "version": "2.4.0"
  }
 },
 "nbformat": 4,
 "nbformat_minor": 5
}
